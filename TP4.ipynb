{
 "cells": [
  {
   "cell_type": "markdown",
   "id": "52fdbc72",
   "metadata": {},
   "source": [
    "# TP4\n",
    "Belén Götz"
   ]
  },
  {
   "cell_type": "code",
   "execution_count": null,
   "id": "bc17107a-d453-47a7-95da-db3308a7c251",
   "metadata": {},
   "outputs": [],
   "source": [
    "from typing import Optional, Any, List\n",
    "\n",
    "class Graph:\n",
    "    \"\"\"\n",
    "    Graph class\n",
    "    \"\"\"\n",
    "    def __init__(self):\n",
    "        self._graph = {}\n",
    "\n",
    "    def add_vertex(self, vertice: str, data: Optional[Any]=None) -> None:\n",
    "        \"\"\"\n",
    "        Adds a vertice to the graph\n",
    "        :param vertice: the vertice name\n",
    "        :param data: data associated with the vertice\n",
    "        \"\"\"\n",
    "        if vertice not in self._graph:\n",
    "            self._graph[vertice] = {'data': data, 'vecinos': {}}\n",
    "\n",
    "    def add_edge(self, vertice1: str, vertice2: str, data: Optional[Any]=None) -> None:\n",
    "        \"\"\"\n",
    "        Adds an edge to the graph\n",
    "        :param vertice1: vertice1 key\n",
    "        :param vertice2: vertice2 key\n",
    "        :param data: the data associated with the vertice\n",
    "        \"\"\"\n",
    "        if not vertice1 in self._graph or not vertice2 in self._graph:\n",
    "            raise ValueError(\"The vertexes do not exist\")\n",
    "        self._graph[vertice1]['vecinos'][vertice2] = data\n",
    "\n",
    "    def get_neighbors(self, vertice) -> List[str]:\n",
    "        \"\"\"\n",
    "        Get the list of vertice vecinos\n",
    "        :param vertice: the vertice to query\n",
    "        :return: the list of vecino vertexes\n",
    "        \"\"\"\n",
    "        if vertice in self._graph:\n",
    "            return list(self._graph[vertice]['vecinos'].keys())\n",
    "        else:\n",
    "            return []\n",
    "\n",
    "    def get_vertex_data(self, vertice: str) -> Optional[Any]:\n",
    "        \"\"\"\n",
    "        Gets  vertice associated data\n",
    "        :param vertice: the vertice name\n",
    "        :return: the vertice data\n",
    "        \"\"\"\n",
    "        if self.vertex_exists(vertice):\n",
    "            return self._graph[vertice]['data']\n",
    "        else:\n",
    "            return None\n",
    "\n",
    "    def get_edge_data(self, vertice1: str, vertice2: str) -> Optional[Any]:\n",
    "        \"\"\"\n",
    "        Gets the vertexes edge data\n",
    "        :param vertice1: the vertice1 name\n",
    "        :param vertice2: the vertice2 name\n",
    "        :return: vertexes edge data\n",
    "        \"\"\"\n",
    "        if self.edge_exists(vertice1, vertice2):\n",
    "            return self._graph[vertice1]['vecinos'][vertice2]\n",
    "        raise ValueError(\"The edge does not exist\")\n",
    "\n",
    "    def print_graph(self) -> None:\n",
    "        \"\"\"\n",
    "        Prints the graph\n",
    "        \"\"\"\n",
    "        for vertice, data in self._graph.items():\n",
    "            print(\"vertice:\", vertice)\n",
    "            print(\"Data:\", data['data'])\n",
    "            print(\"vecinos:\", data['vecinos'])\n",
    "            print(\"\")\n",
    "\n",
    "    def vertex_exists(self, vertice: str) -> bool:\n",
    "        \"\"\"\n",
    "        If contains a vertice\n",
    "        :param vertice: the vertice name\n",
    "        :return: boolean\n",
    "        \"\"\"\n",
    "        return vertice in self._graph\n",
    "\n",
    "    def edge_exists(self, vertice1: str, vertice2: str) -> bool:\n",
    "        \"\"\"\n",
    "        If contains an edge\n",
    "        :param vertice1: the vertice1 name\n",
    "        :param vertice2: the vertice2 name\n",
    "        :return: boolean\n",
    "        \"\"\"\n",
    "        return vertice1 in self._graph and vertice2 in self._graph[vertice1]['vecinos']\n",
    "    \n",
    "    #agregado x mi\n",
    "    def add_edge_reciprocal(self, vertice1: str, vertice2: str, data: Optional[Any]=None) -> None:\n",
    "        \"\"\"\n",
    "        Adds an edge to the graph\n",
    "        :param vertice1: vertice1 key\n",
    "        :param vertice2: vertice2 key\n",
    "        :param data: the data associated with the vertice\n",
    "        THAT but BIDIRECCIONAL <->\n",
    "        \"\"\"\n",
    "        if not vertice1 in self._graph or not vertice2 in self._graph:\n",
    "            raise ValueError(\"The vertexes do not exist\")\n",
    "        self._graph[vertice1]['vecinos'][vertice2] = data\n",
    "        self._graph[vertice2]['vecinos'][vertice1] = data\n",
    "\n",
    "    def get_predecessors(self, vertice: str) -> List[str]:\n",
    "        \"\"\"\n",
    "        Gets the list of predecessors (nodes pointing to the given vertice).\n",
    "        :param vertice: the vertice to query\n",
    "        :return: the list of predecessor vertexes\n",
    "        \"\"\"\n",
    "        if not self.vertex_exists(vertice):\n",
    "            raise ValueError(f\"vertice '{vertice}' does not exist in the graph.\")\n",
    "\n",
    "        predecessors = []\n",
    "        for v, data in self._graph.items():\n",
    "            if vertice in data['vecinos']:\n",
    "                predecessors.append(v)\n",
    "        return predecessors\n",
    "    \n",
    "    def get_vertexes(self) -> List[str]:\n",
    "        \"\"\"\n",
    "        Devuelve una lista con todos los vértices del grafo.\n",
    "        :return: Lista de nombres de vértices.\n",
    "        \"\"\"\n",
    "        return list(self._graph.keys())\n",
    "    \n",
    "    def get_neighbors_with_weight(self, node: str) -> List[tuple]:\n",
    "        \"\"\"\n",
    "        Devuelve los vecinos de un nodo y sus respectivos pesos.\n",
    "        :param node: Nodo del cual queremos obtener los vecinos\n",
    "        :return: Lista de tuplas (vecino, peso)\n",
    "        \"\"\"\n",
    "        if node in self._graph:\n",
    "            return [(vecino, self._graph[node]['vecinos'][vecino]) for vecino in self._graph[node]['vecinos']]\n",
    "        else:\n",
    "            return []\n",
    "\n",
    "    "
   ]
  },
  {
   "cell_type": "code",
   "execution_count": 2,
   "id": "755a0b5d-7a13-43ef-91c3-bd8019b9cd86",
   "metadata": {},
   "outputs": [],
   "source": [
    "graph = Graph()"
   ]
  },
  {
   "cell_type": "markdown",
   "id": "182505e3",
   "metadata": {},
   "source": [
    "#### CARGAR GRAFO:\n",
    "###### 2m 35s/3m:"
   ]
  },
  {
   "cell_type": "code",
   "execution_count": 3,
   "id": "e483af11-17b5-4bdc-9438-2204bcdd9e8e",
   "metadata": {},
   "outputs": [
    {
     "name": "stderr",
     "output_type": "stream",
     "text": [
      "Loading edges: 100%|█████████▉| 101409095/101409330 [02:29<00:00, 678042.50it/s]\n"
     ]
    }
   ],
   "source": [
    "from tqdm import tqdm\n",
    "\n",
    "index_title_dict = {}\n",
    "\n",
    "with open(\"vertexes.txt\", \"r\") as file:\n",
    "    for line in file:\n",
    "        index = int(line.split(\" \")[0])\n",
    "        title = \" \".join(line[:-1].split(\" \")[1:])\n",
    "        index_title_dict[index] = title\n",
    "        graph.add_vertex(title)\n",
    "\n",
    "with open(\"edges.txt\", \"r\") as file:\n",
    "    for line in tqdm(file, desc=\"Loading edges\", total=101409330):\n",
    "        art1 = int(line[:-1].split(\" \")[0])\n",
    "        art2 = int(line[:-1].split(\" \")[1])\n",
    "        q = int(line[:-1].split(\" \")[2])\n",
    "        if art1 in index_title_dict and art2 in index_title_dict:\n",
    "            graph.add_edge(index_title_dict[art1], index_title_dict[art2], q)\n",
    "\n",
    "del index_title_dict"
   ]
  },
  {
   "cell_type": "markdown",
   "id": "65a8505b",
   "metadata": {},
   "source": [
    "#### DFS código"
   ]
  },
  {
   "cell_type": "code",
   "execution_count": 4,
   "id": "13a01bb3",
   "metadata": {},
   "outputs": [],
   "source": [
    "from collections import deque\n",
    "\n",
    "def dfs(graph: Graph, vertice: str, visitados: set, pbar: tqdm):\n",
    "    stack = [vertice]\n",
    "    while stack:\n",
    "        current = stack.pop()\n",
    "        if current not in visitados:\n",
    "            visitados.add(current)\n",
    "            stack.extend(\n",
    "                vecino for vecino in graph.get_neighbors(current) if vecino not in visitados\n",
    "            )\n",
    "            pbar.update(1)        "
   ]
  },
  {
   "cell_type": "markdown",
   "id": "79cb846a",
   "metadata": {},
   "source": [
    "# 1) \n",
    "¿Es el grafo débilmente conexo? Si no es así, ¿cuántas componentes conexas tiene? "
   ]
  },
  {
   "cell_type": "markdown",
   "id": "da00ab68",
   "metadata": {},
   "source": [
    "Se vuelve a cargar el grafo como \"NO dirigido\" (técnicamente con todas sus artistas bidireccionales) y se cuentan los componentes.\n",
    "\n",
    "###### 5m 24s:"
   ]
  },
  {
   "cell_type": "code",
   "execution_count": 15,
   "id": "9fb37f0d",
   "metadata": {},
   "outputs": [
    {
     "name": "stdout",
     "output_type": "stream",
     "text": [
      "Convirtiendo grafo a NO dirigido...\n"
     ]
    },
    {
     "name": "stderr",
     "output_type": "stream",
     "text": [
      "Agregando vértices al grafo no dirigido: 100%|██████████| 3958452/3958452 [00:05<00:00, 768135.41it/s] \n",
      "Agregando aristas al grafo no dirigido: 100%|██████████| 3958452/3958452 [03:02<00:00, 21706.50it/s]\n"
     ]
    },
    {
     "name": "stdout",
     "output_type": "stream",
     "text": [
      "Cargando conectividad...\n"
     ]
    },
    {
     "name": "stderr",
     "output_type": "stream",
     "text": [
      "Contando componentes: 100%|██████████| 3958452/3958452 [00:53<00:00, 74173.27it/s] \n"
     ]
    },
    {
     "name": "stdout",
     "output_type": "stream",
     "text": [
      "El grafo NO es débilmente conexo. Número de componentes conexas: 32_665\n"
     ]
    }
   ],
   "source": [
    "def convertir_a_NO_dirigido(graph: Graph) -> Graph:\n",
    "    grafo_NOdirigido = Graph()\n",
    "\n",
    "    for vertice in tqdm(graph.get_vertexes(), desc=\"Agregando vértices al grafo no dirigido\"):\n",
    "        grafo_NOdirigido.add_vertex(vertice, graph.get_vertex_data(vertice))\n",
    "\n",
    "    for vertice in tqdm(graph.get_vertexes(), desc=\"Agregando aristas al grafo no dirigido\"):\n",
    "        for vecino, peso in graph.get_neighbors_with_weight(vertice):\n",
    "            if not grafo_NOdirigido.edge_exists(vertice, vecino):\n",
    "                grafo_NOdirigido.add_edge_reciprocal(vertice, vecino, peso)\n",
    "                \n",
    "    return grafo_NOdirigido\n",
    "\n",
    "def contar_componentes(graph: Graph) -> int:\n",
    "    vertexes_todos = graph.get_vertexes()\n",
    "    visitados = set()\n",
    "    componentes = 0\n",
    "\n",
    "    with tqdm(total=len(vertexes_todos), desc=\"Contando componentes\") as pbar:\n",
    "        for vertice in vertexes_todos:\n",
    "            if vertice not in visitados:\n",
    "                componentes += 1\n",
    "                dfs(graph, vertice, visitados, pbar)\n",
    "\n",
    "    return componentes\n",
    "\n",
    "def analizar_conectividad(graph: Graph):\n",
    "\n",
    "    print(\"Convirtiendo grafo a NO dirigido...\")\n",
    "    grafo_NOdirigido = convertir_a_NO_dirigido(graph)\n",
    "    del graph #para que no explote mi compu\n",
    "\n",
    "    print(\"Cargando conectividad...\")\n",
    "    num_componentes = contar_componentes(grafo_NOdirigido)\n",
    "\n",
    "    if num_componentes == 1:\n",
    "        print(\"El grafo es débilmente conexo :)\")\n",
    "    else:\n",
    "        print(f\"El grafo NO es débilmente conexo. Número de componentes conexas: {num_componentes:_}\")\n",
    "\n",
    "analizar_conectividad(graph)"
   ]
  },
  {
   "cell_type": "markdown",
   "id": "16893f4a",
   "metadata": {},
   "source": [
    "# 2) \n",
    "Wikipedia race: Existe un juego que consiste en dadas dos páginas de wikipedia los jugadores compiten por llegar desde la primera página hasta la segunda en la menor cantidad de o bien tiempo o bien links apretados. Por ejemplo, si fuera por cantidad de links, para ir de la página de “Samsung Galaxy J7 Prime” a la de “Guillermo Francella” un camino más corto es:\n",
    "\n",
    "    1. Samsung Galaxy J7 Prime\n",
    "    2. Samsung Galaxy Z Flip\n",
    "    3. 92nd Academy Awards\n",
    "    4. Antonio Banderas\n",
    "    5. Guillermo Francella\n",
    "\n",
    "\n",
    "Realice una función que dados dos títulos de Wikipedia pueda buscar el camino mínimo entre ambos."
   ]
  },
  {
   "cell_type": "code",
   "execution_count": 6,
   "id": "d4b3b609",
   "metadata": {},
   "outputs": [],
   "source": [
    "from typing import Tuple, List\n",
    "from collections import deque\n",
    "\n",
    "def bfs_camino_corto(graph, start: str, end: str):\n",
    "    if start not in graph._graph or end not in graph._graph:\n",
    "        return [], float('inf')\n",
    "\n",
    "    queue = deque([(start, [start])])\n",
    "    visitados = set()\n",
    "\n",
    "    while queue:\n",
    "        current_node, camino = queue.popleft()\n",
    "\n",
    "        if current_node == end:\n",
    "            return camino, len(camino) - 1\n",
    "\n",
    "        if current_node not in visitados:\n",
    "            visitados.add(current_node)\n",
    "            for vecino in graph.get_neighbors(current_node):\n",
    "                if vecino not in visitados:\n",
    "                    queue.append((vecino, camino + [vecino]))\n",
    "\n",
    "    return [], float('inf')\n"
   ]
  },
  {
   "cell_type": "code",
   "execution_count": 7,
   "id": "59ccd9a7",
   "metadata": {},
   "outputs": [
    {
     "name": "stdout",
     "output_type": "stream",
     "text": [
      "Camino más corto:\n",
      "Samsung Galaxy J7 Prime -> Android -> GNU General Public License -> 25 de febrero -> 14 de febrero -> Guillermo Francella\n",
      "Peso total: 5\n"
     ]
    }
   ],
   "source": [
    "start = \"Samsung Galaxy J7 Prime\"\n",
    "end = \"Guillermo Francella\"\n",
    "\n",
    "camino_minimo, peso_total = bfs_camino_corto(graph, start, end)\n",
    "\n",
    "if camino_minimo:\n",
    "    print(\"Camino más corto:\")\n",
    "    print(\" -> \".join(camino_minimo))\n",
    "    print(f\"Peso total: {peso_total}\")\n",
    "else:\n",
    "    print(\"No hay un camino entre los nodos especificados.\")\n"
   ]
  },
  {
   "cell_type": "markdown",
   "id": "6c60da09",
   "metadata": {},
   "source": [
    "# 3) \n",
    "Queremos puntuar también a los competidores por originalidad en sus caminos. Solo los competidores que consigan los caminos con la menor cantidad de saltos pueden puntuar, pero no todos los caminos son igual de originales. Decimos que un camino es “poco original” si su promedio de pesos de aristas es alto (son los links que se repetían más veces) y es “muy original” si su promedio de aristas es el más bajo. Dadas dos aristas devuelva de todos los caminos mínimos el más y el menos original. Muestre un ejemplo."
   ]
  },
  {
   "cell_type": "markdown",
   "id": "0a7fcafc",
   "metadata": {},
   "source": [
    "Para puntuar los caminos por originalidad primero encuentro la lista de todos los caminos posibles para una dada profundidad (mínima).\n",
    "Con BFS, dado el nodo inicial, ramificamos hasta encontrar un 'hit' al nodo end.\n",
    "Una vez encontrada 'hit' continuamos pero a la misma profundida."
   ]
  },
  {
   "cell_type": "markdown",
   "id": "72cd9a6b",
   "metadata": {},
   "source": [
    "###### 1m 36s:"
   ]
  },
  {
   "cell_type": "code",
   "execution_count": 18,
   "id": "a51fd94a",
   "metadata": {},
   "outputs": [
    {
     "name": "stdout",
     "output_type": "stream",
     "text": [
      "CAMINOS: cantidad 234, caminos: [['Samsung Galaxy J7 Prime', 'Android', 'GNU General Public License', '25 de febrero', '14 de febrero', 'Guillermo Francella'], ['Samsung Galaxy J7 Prime', 'Android', 'GNU General Public License', '25 de febrero', '1955', 'Guillermo Francella'], ['Samsung Galaxy J7 Prime', 'Android', 'GNU General Public License', '1989', '14 de febrero', 'Guillermo Francella'], ['Samsung Galaxy J7 Prime', 'Android', 'Estados Unidos', 'Primer contacto', 'Enrique el Navegante', 'Guillermo Francella'], ['Samsung Galaxy J7 Prime', 'Android', 'Estados Unidos', 'Orson Welles', 'Plano secuencia', 'Guillermo Francella'], ['Samsung Galaxy J7 Prime', 'Android', 'Estados Unidos', 'Francis Ford Coppola', 'Norma Pons', 'Guillermo Francella'], ['Samsung Galaxy J7 Prime', 'Android', 'Estados Unidos', 'Emily Dickinson', 'Silvina Ocampo', 'Guillermo Francella'], ['Samsung Galaxy J7 Prime', 'Android', 'Aptoide', 'Portugal', 'Enrique el Navegante', 'Guillermo Francella'], ['Samsung Galaxy J7 Prime', 'Android', 'Software libre', 'Argentina', 'Silvina Ocampo', 'Guillermo Francella'], ['Samsung Galaxy J7 Prime', 'Android', 'Software libre', 'Argentina', 'El secreto de sus ojos', 'Guillermo Francella'], ['Samsung Galaxy J7 Prime', 'Android', 'Software libre', 'Argentina', 'Ariel Winograd', 'Guillermo Francella'], ['Samsung Galaxy J7 Prime', 'Android', 'Blade Runner', 'Argentina', 'Silvina Ocampo', 'Guillermo Francella'], ['Samsung Galaxy J7 Prime', 'Android', 'Blade Runner', 'Argentina', 'El secreto de sus ojos', 'Guillermo Francella'], ['Samsung Galaxy J7 Prime', 'Android', 'Blade Runner', 'Argentina', 'Ariel Winograd', 'Guillermo Francella'], ['Samsung Galaxy J7 Prime', 'Android', 'Blade Runner', 'Al Pacino', 'Racing Club', 'Guillermo Francella'], ['Samsung Galaxy J7 Prime', 'Android', 'Blade Runner', 'Martin Scorsese', 'Plano secuencia', 'Guillermo Francella'], ['Samsung Galaxy J7 Prime', 'Android', 'Blade Runner', 'Premios Globo de Oro', 'Premios Platino', 'Guillermo Francella'], ['Samsung Galaxy J7 Prime', 'Android', 'Blade Runner', 'Guillermo del Toro', 'Rudo y Cursi', 'Guillermo Francella'], ['Samsung Galaxy J7 Prime', 'Android', 'Huawei', 'Argentina', 'Silvina Ocampo', 'Guillermo Francella'], ['Samsung Galaxy J7 Prime', 'Android', 'Huawei', 'Argentina', 'El secreto de sus ojos', 'Guillermo Francella'], ['Samsung Galaxy J7 Prime', 'Android', 'Huawei', 'Argentina', 'Ariel Winograd', 'Guillermo Francella'], ['Samsung Galaxy J7 Prime', 'Android', 'Huawei', 'Club Sporting Cristal', 'Racing Club', 'Guillermo Francella'], ['Samsung Galaxy J7 Prime', 'Android', 'Toshiba', 'Argentina', 'Silvina Ocampo', 'Guillermo Francella'], ['Samsung Galaxy J7 Prime', 'Android', 'Toshiba', 'Argentina', 'El secreto de sus ojos', 'Guillermo Francella'], ['Samsung Galaxy J7 Prime', 'Android', 'Toshiba', 'Argentina', 'Ariel Winograd', 'Guillermo Francella'], ['Samsung Galaxy J7 Prime', 'Android', 'The Guardian', 'Primicias', 'Arturo Puig', 'Guillermo Francella'], ['Samsung Galaxy J7 Prime', 'Android', 'The Guardian', 'Primicias', 'Juan Carlos Mesa', 'Guillermo Francella'], ['Samsung Galaxy J7 Prime', 'Android', 'The Guardian', 'Primicias', 'Pamela David', 'Guillermo Francella'], ['Samsung Galaxy J7 Prime', 'Android', 'The Guardian', 'Primicias', 'Fabio Aste', 'Guillermo Francella'], ['Samsung Galaxy J7 Prime', 'Android', 'The Guardian', 'Primicias', 'Adriana Salonia', 'Guillermo Francella'], ['Samsung Galaxy J7 Prime', 'Android', 'The Guardian', 'Primicias', 'Hugo Castro', 'Guillermo Francella'], ['Samsung Galaxy J7 Prime', 'Android', 'Android Oreo', '19 de septiembre', '1955', 'Guillermo Francella'], ['Samsung Galaxy J7 Prime', 'Android', 'Android Oreo', '2018', '14 de febrero', 'Guillermo Francella'], ['Samsung Galaxy J7 Prime', 'Android', 'Google Pay', 'Argentina', 'Silvina Ocampo', 'Guillermo Francella'], ['Samsung Galaxy J7 Prime', 'Android', 'Google Pay', 'Argentina', 'El secreto de sus ojos', 'Guillermo Francella'], ['Samsung Galaxy J7 Prime', 'Android', 'Google Pay', 'Argentina', 'Ariel Winograd', 'Guillermo Francella'], ['Samsung Galaxy J7 Prime', 'Android', 'Reuters', 'Argentina', 'Silvina Ocampo', 'Guillermo Francella'], ['Samsung Galaxy J7 Prime', 'Android', 'Reuters', 'Argentina', 'El secreto de sus ojos', 'Guillermo Francella'], ['Samsung Galaxy J7 Prime', 'Android', 'Reuters', 'Argentina', 'Ariel Winograd', 'Guillermo Francella'], ['Samsung Galaxy J7 Prime', 'Samsung Electronics', 'Industria', 'Argentina', 'Silvina Ocampo', 'Guillermo Francella'], ['Samsung Galaxy J7 Prime', 'Samsung Electronics', 'Industria', 'Argentina', 'El secreto de sus ojos', 'Guillermo Francella'], ['Samsung Galaxy J7 Prime', 'Samsung Electronics', 'Industria', 'Argentina', 'Ariel Winograd', 'Guillermo Francella'], ['Samsung Galaxy J7 Prime', 'Samsung Electronics', 'Sitio web', 'Cuota de pantalla', 'Showmatch', 'Guillermo Francella'], ['Samsung Galaxy J7 Prime', 'Samsung Electronics', 'Apple', 'Portugal', 'Enrique el Navegante', 'Guillermo Francella'], ['Samsung Galaxy J7 Prime', 'Samsung Electronics', 'Apple', 'Argentina', 'Silvina Ocampo', 'Guillermo Francella'], ['Samsung Galaxy J7 Prime', 'Samsung Electronics', 'Apple', 'Argentina', 'El secreto de sus ojos', 'Guillermo Francella'], ['Samsung Galaxy J7 Prime', 'Samsung Electronics', 'Apple', 'Argentina', 'Ariel Winograd', 'Guillermo Francella'], ['Samsung Galaxy J7 Prime', 'Samsung Electronics', 'Apple', 'Leyenda urbana', 'Racing Club', 'Guillermo Francella'], ['Samsung Galaxy J7 Prime', 'Samsung Electronics', 'Brasil', 'Argentina', 'Silvina Ocampo', 'Guillermo Francella'], ['Samsung Galaxy J7 Prime', 'Samsung Electronics', 'Brasil', 'Argentina', 'El secreto de sus ojos', 'Guillermo Francella'], ['Samsung Galaxy J7 Prime', 'Samsung Electronics', 'Brasil', 'Argentina', 'Ariel Winograd', 'Guillermo Francella'], ['Samsung Galaxy J7 Prime', 'Samsung Electronics', 'Brasil', 'Portugal', 'Enrique el Navegante', 'Guillermo Francella'], ['Samsung Galaxy J7 Prime', 'Samsung Electronics', 'Brasil', 'Descubrimientos portugueses', 'Enrique el Navegante', 'Guillermo Francella'], ['Samsung Galaxy J7 Prime', 'Samsung Electronics', 'Brasil', 'Reino de Portugal', 'Enrique el Navegante', 'Guillermo Francella'], ['Samsung Galaxy J7 Prime', 'Samsung Electronics', 'Refrigerador', 'Argentina', 'Silvina Ocampo', 'Guillermo Francella'], ['Samsung Galaxy J7 Prime', 'Samsung Electronics', 'Refrigerador', 'Argentina', 'El secreto de sus ojos', 'Guillermo Francella'], ['Samsung Galaxy J7 Prime', 'Samsung Electronics', 'Refrigerador', 'Argentina', 'Ariel Winograd', 'Guillermo Francella'], ['Samsung Galaxy J7 Prime', 'Samsung', 'Industria', 'Argentina', 'Silvina Ocampo', 'Guillermo Francella'], ['Samsung Galaxy J7 Prime', 'Samsung', 'Industria', 'Argentina', 'El secreto de sus ojos', 'Guillermo Francella'], ['Samsung Galaxy J7 Prime', 'Samsung', 'Industria', 'Argentina', 'Ariel Winograd', 'Guillermo Francella'], ['Samsung Galaxy J7 Prime', 'Samsung', 'Entretenimiento', 'Edad Moderna', 'Enrique el Navegante', 'Guillermo Francella'], ['Samsung Galaxy J7 Prime', 'Samsung', 'Entretenimiento', 'Orson Welles', 'Plano secuencia', 'Guillermo Francella'], ['Samsung Galaxy J7 Prime', 'Samsung', 'Sitio web', 'Cuota de pantalla', 'Showmatch', 'Guillermo Francella'], ['Samsung Galaxy J7 Prime', 'Samsung', 'Guerra de Corea', 'Argentina', 'Silvina Ocampo', 'Guillermo Francella'], ['Samsung Galaxy J7 Prime', 'Samsung', 'Guerra de Corea', 'Argentina', 'El secreto de sus ojos', 'Guillermo Francella'], ['Samsung Galaxy J7 Prime', 'Samsung', 'Guerra de Corea', 'Argentina', 'Ariel Winograd', 'Guillermo Francella'], ['Samsung Galaxy J7 Prime', 'Samsung', 'Asia', 'Dili', 'Enrique el Navegante', 'Guillermo Francella'], ['Samsung Galaxy J7 Prime', 'Samsung', 'Asia', 'Portugal', 'Enrique el Navegante', 'Guillermo Francella'], ['Samsung Galaxy J7 Prime', 'Samsung', 'Asia', 'Edad Moderna', 'Enrique el Navegante', 'Guillermo Francella'], ['Samsung Galaxy J7 Prime', 'Samsung', 'Torres Petronas', 'Argentina', 'Silvina Ocampo', 'Guillermo Francella'], ['Samsung Galaxy J7 Prime', 'Samsung', 'Torres Petronas', 'Argentina', 'El secreto de sus ojos', 'Guillermo Francella'], ['Samsung Galaxy J7 Prime', 'Samsung', 'Torres Petronas', 'Argentina', 'Ariel Winograd', 'Guillermo Francella'], ['Samsung Galaxy J7 Prime', 'Samsung', 'Kuala Lumpur', 'Buenos Aires', 'Teatro Lola Membrives', 'Guillermo Francella'], ['Samsung Galaxy J7 Prime', 'Samsung', 'Nissan', 'Argentina', 'Silvina Ocampo', 'Guillermo Francella'], ['Samsung Galaxy J7 Prime', 'Samsung', 'Nissan', 'Argentina', 'El secreto de sus ojos', 'Guillermo Francella'], ['Samsung Galaxy J7 Prime', 'Samsung', 'Nissan', 'Argentina', 'Ariel Winograd', 'Guillermo Francella'], ['Samsung Galaxy J7 Prime', 'Samsung', 'Renault', 'Argentina', 'Silvina Ocampo', 'Guillermo Francella'], ['Samsung Galaxy J7 Prime', 'Samsung', 'Renault', 'Argentina', 'El secreto de sus ojos', 'Guillermo Francella'], ['Samsung Galaxy J7 Prime', 'Samsung', 'Renault', 'Argentina', 'Ariel Winograd', 'Guillermo Francella'], ['Samsung Galaxy J7 Prime', 'Samsung', 'Renault', 'Buenos Aires', 'Teatro Lola Membrives', 'Guillermo Francella'], ['Samsung Galaxy J7 Prime', 'Samsung', 'Volkswagen', 'Argentina', 'Silvina Ocampo', 'Guillermo Francella'], ['Samsung Galaxy J7 Prime', 'Samsung', 'Volkswagen', 'Argentina', 'El secreto de sus ojos', 'Guillermo Francella'], ['Samsung Galaxy J7 Prime', 'Samsung', 'Volkswagen', 'Argentina', 'Ariel Winograd', 'Guillermo Francella'], ['Samsung Galaxy J7 Prime', 'Samsung', 'Volkswagen', 'Portugal', 'Enrique el Navegante', 'Guillermo Francella'], ['Samsung Galaxy J7 Prime', 'Samsung', 'Apple', 'Portugal', 'Enrique el Navegante', 'Guillermo Francella'], ['Samsung Galaxy J7 Prime', 'Samsung', 'Apple', 'Argentina', 'Silvina Ocampo', 'Guillermo Francella'], ['Samsung Galaxy J7 Prime', 'Samsung', 'Apple', 'Argentina', 'El secreto de sus ojos', 'Guillermo Francella'], ['Samsung Galaxy J7 Prime', 'Samsung', 'Apple', 'Argentina', 'Ariel Winograd', 'Guillermo Francella'], ['Samsung Galaxy J7 Prime', 'Samsung', 'Apple', 'Leyenda urbana', 'Racing Club', 'Guillermo Francella'], ['Samsung Galaxy J7 Prime', 'Samsung', 'Comercio', 'Especia', 'Enrique el Navegante', 'Guillermo Francella'], ['Samsung Galaxy J7 Prime', 'Samsung', 'Comercio', 'Portugal', 'Enrique el Navegante', 'Guillermo Francella'], ['Samsung Galaxy J7 Prime', 'Samsung', 'Comercio', 'Vasco da Gama', 'Enrique el Navegante', 'Guillermo Francella'], ['Samsung Galaxy J7 Prime', 'Samsung', 'Farmacia', 'Argentina', 'Silvina Ocampo', 'Guillermo Francella'], ['Samsung Galaxy J7 Prime', 'Samsung', 'Farmacia', 'Argentina', 'El secreto de sus ojos', 'Guillermo Francella'], ['Samsung Galaxy J7 Prime', 'Samsung', 'Farmacia', 'Argentina', 'Ariel Winograd', 'Guillermo Francella'], ['Samsung Galaxy J7 Prime', 'Samsung', 'Hotel', 'Portugal', 'Enrique el Navegante', 'Guillermo Francella'], ['Samsung Galaxy J7 Prime', 'Samsung', 'Baloncesto', 'Argentina', 'Silvina Ocampo', 'Guillermo Francella'], ['Samsung Galaxy J7 Prime', 'Samsung', 'Baloncesto', 'Argentina', 'El secreto de sus ojos', 'Guillermo Francella'], ['Samsung Galaxy J7 Prime', 'Samsung', 'Baloncesto', 'Argentina', 'Ariel Winograd', 'Guillermo Francella'], ['Samsung Galaxy J7 Prime', 'Samsung', 'Banco', 'Edad Moderna', 'Enrique el Navegante', 'Guillermo Francella'], ['Samsung Galaxy J7 Prime', 'Samsung', 'Grandes almacenes', 'Argentina', 'Silvina Ocampo', 'Guillermo Francella'], ['Samsung Galaxy J7 Prime', 'Samsung', 'Grandes almacenes', 'Argentina', 'El secreto de sus ojos', 'Guillermo Francella'], ['Samsung Galaxy J7 Prime', 'Samsung', 'Grandes almacenes', 'Argentina', 'Ariel Winograd', 'Guillermo Francella'], ['Samsung Galaxy J7 Prime', 'Samsung', 'Estados Unidos', 'Primer contacto', 'Enrique el Navegante', 'Guillermo Francella'], ['Samsung Galaxy J7 Prime', 'Samsung', 'Estados Unidos', 'Orson Welles', 'Plano secuencia', 'Guillermo Francella'], ['Samsung Galaxy J7 Prime', 'Samsung', 'Estados Unidos', 'Francis Ford Coppola', 'Norma Pons', 'Guillermo Francella'], ['Samsung Galaxy J7 Prime', 'Samsung', 'Estados Unidos', 'Emily Dickinson', 'Silvina Ocampo', 'Guillermo Francella'], ['Samsung Galaxy J7 Prime', 'Samsung', 'California', 'Hispanos', 'Enrique el Navegante', 'Guillermo Francella'], ['Samsung Galaxy J7 Prime', 'Samsung', 'California', 'Antonio Banderas', 'Premios Platino', 'Guillermo Francella'], ['Samsung Galaxy J7 Prime', 'Pulgada', 'Estados Unidos', 'Primer contacto', 'Enrique el Navegante', 'Guillermo Francella'], ['Samsung Galaxy J7 Prime', 'Pulgada', 'Estados Unidos', 'Orson Welles', 'Plano secuencia', 'Guillermo Francella'], ['Samsung Galaxy J7 Prime', 'Pulgada', 'Estados Unidos', 'Francis Ford Coppola', 'Norma Pons', 'Guillermo Francella'], ['Samsung Galaxy J7 Prime', 'Pulgada', 'Estados Unidos', 'Emily Dickinson', 'Silvina Ocampo', 'Guillermo Francella'], ['Samsung Galaxy J7 Prime', 'Pulgada', 'Reino Unido', 'Argentina', 'Silvina Ocampo', 'Guillermo Francella'], ['Samsung Galaxy J7 Prime', 'Pulgada', 'Reino Unido', 'Argentina', 'El secreto de sus ojos', 'Guillermo Francella'], ['Samsung Galaxy J7 Prime', 'Pulgada', 'Reino Unido', 'Argentina', 'Ariel Winograd', 'Guillermo Francella'], ['Samsung Galaxy J7 Prime', 'Pulgada', 'Reino Unido', 'Celtic Football Club', 'Racing Club', 'Guillermo Francella'], ['Samsung Galaxy J7 Prime', 'Pulgada', 'Unidad de medida', 'Calendario gregoriano', '14 de febrero', 'Guillermo Francella'], ['Samsung Galaxy J7 Prime', 'Pulgada', 'Sistema Internacional de Unidades', 'Argentina', 'Silvina Ocampo', 'Guillermo Francella'], ['Samsung Galaxy J7 Prime', 'Pulgada', 'Sistema Internacional de Unidades', 'Argentina', 'El secreto de sus ojos', 'Guillermo Francella'], ['Samsung Galaxy J7 Prime', 'Pulgada', 'Sistema Internacional de Unidades', 'Argentina', 'Ariel Winograd', 'Guillermo Francella'], ['Samsung Galaxy J7 Prime', 'Pulgada', 'Segundo', 'Calendario gregoriano', '14 de febrero', 'Guillermo Francella'], ['Samsung Galaxy J7 Prime', 'Pulgada', 'Hora', 'Calendario gregoriano', '14 de febrero', 'Guillermo Francella'], ['Samsung Galaxy J7 Prime', 'Pulgada', 'Milla', 'Edad Moderna', 'Enrique el Navegante', 'Guillermo Francella'], ['Samsung Galaxy J7 Prime', 'Memoria de acceso aleatorio', 'Silicio', 'Argentina', 'Silvina Ocampo', 'Guillermo Francella'], ['Samsung Galaxy J7 Prime', 'Memoria de acceso aleatorio', 'Silicio', 'Argentina', 'El secreto de sus ojos', 'Guillermo Francella'], ['Samsung Galaxy J7 Prime', 'Memoria de acceso aleatorio', 'Silicio', 'Argentina', 'Ariel Winograd', 'Guillermo Francella'], ['Samsung Galaxy J7 Prime', 'Memoria de acceso aleatorio', 'MSX', 'Argentina', 'Silvina Ocampo', 'Guillermo Francella'], ['Samsung Galaxy J7 Prime', 'Memoria de acceso aleatorio', 'MSX', 'Argentina', 'El secreto de sus ojos', 'Guillermo Francella'], ['Samsung Galaxy J7 Prime', 'Memoria de acceso aleatorio', 'MSX', 'Argentina', 'Ariel Winograd', 'Guillermo Francella'], ['Samsung Galaxy J7 Prime', 'Gigabyte', 'Idioma griego', 'Argentina', 'Silvina Ocampo', 'Guillermo Francella'], ['Samsung Galaxy J7 Prime', 'Gigabyte', 'Idioma griego', 'Argentina', 'El secreto de sus ojos', 'Guillermo Francella'], ['Samsung Galaxy J7 Prime', 'Gigabyte', 'Idioma griego', 'Argentina', 'Ariel Winograd', 'Guillermo Francella'], ['Samsung Galaxy J7 Prime', 'Gigabyte', 'Sistema Internacional de Unidades', 'Argentina', 'Silvina Ocampo', 'Guillermo Francella'], ['Samsung Galaxy J7 Prime', 'Gigabyte', 'Sistema Internacional de Unidades', 'Argentina', 'El secreto de sus ojos', 'Guillermo Francella'], ['Samsung Galaxy J7 Prime', 'Gigabyte', 'Sistema Internacional de Unidades', 'Argentina', 'Ariel Winograd', 'Guillermo Francella'], ['Samsung Galaxy J7 Prime', 'Exynos', 'Samsung Galaxy S II', 'Portugal', 'Enrique el Navegante', 'Guillermo Francella'], ['Samsung Galaxy J7 Prime', 'Exynos', 'Samsung Galaxy S II', 'Argentina', 'Silvina Ocampo', 'Guillermo Francella'], ['Samsung Galaxy J7 Prime', 'Exynos', 'Samsung Galaxy S II', 'Argentina', 'El secreto de sus ojos', 'Guillermo Francella'], ['Samsung Galaxy J7 Prime', 'Exynos', 'Samsung Galaxy S II', 'Argentina', 'Ariel Winograd', 'Guillermo Francella'], ['Samsung Galaxy J7 Prime', 'Bluetooth', 'Dinamarca', 'Premios Globo de Oro', 'Premios Platino', 'Guillermo Francella'], ['Samsung Galaxy J7 Prime', 'Bluetooth', 'Suecia', 'Festival de cine', 'Premios Platino', 'Guillermo Francella'], ['Samsung Galaxy J7 Prime', 'Bluetooth', 'Suecia', 'Fiesta de San Juan', '1955', 'Guillermo Francella'], ['Samsung Galaxy J7 Prime', 'Bluetooth', 'PlayStation 3', 'FIFA 13', 'Racing Club', 'Guillermo Francella'], ['Samsung Galaxy J7 Prime', 'Bluetooth', 'Wii U', 'FIFA 13', 'Racing Club', 'Guillermo Francella'], ['Samsung Galaxy J7 Prime', 'Bluetooth', 'Segundo', 'Calendario gregoriano', '14 de febrero', 'Guillermo Francella'], ['Samsung Galaxy J7 Prime', '4G', 'Armenia', 'Argentina', 'Silvina Ocampo', 'Guillermo Francella'], ['Samsung Galaxy J7 Prime', '4G', 'Armenia', 'Argentina', 'El secreto de sus ojos', 'Guillermo Francella'], ['Samsung Galaxy J7 Prime', '4G', 'Armenia', 'Argentina', 'Ariel Winograd', 'Guillermo Francella'], ['Samsung Galaxy J7 Prime', '4G', 'Bolivia', 'Argentina', 'Silvina Ocampo', 'Guillermo Francella'], ['Samsung Galaxy J7 Prime', '4G', 'Bolivia', 'Argentina', 'El secreto de sus ojos', 'Guillermo Francella'], ['Samsung Galaxy J7 Prime', '4G', 'Bolivia', 'Argentina', 'Ariel Winograd', 'Guillermo Francella'], ['Samsung Galaxy J7 Prime', '4G', 'Bolivia', 'Portugal', 'Enrique el Navegante', 'Guillermo Francella'], ['Samsung Galaxy J7 Prime', '4G', 'Bolivia', 'Buenos Aires', 'Teatro Lola Membrives', 'Guillermo Francella'], ['Samsung Galaxy J7 Prime', '4G', 'Bolivia', 'Provincia de Buenos Aires', 'Racing Club', 'Guillermo Francella'], ['Samsung Galaxy J7 Prime', '4G', 'Uruguay', 'Argentina', 'Silvina Ocampo', 'Guillermo Francella'], ['Samsung Galaxy J7 Prime', '4G', 'Uruguay', 'Argentina', 'El secreto de sus ojos', 'Guillermo Francella'], ['Samsung Galaxy J7 Prime', '4G', 'Uruguay', 'Argentina', 'Ariel Winograd', 'Guillermo Francella'], ['Samsung Galaxy J7 Prime', '4G', 'Uruguay', 'Provincia de Buenos Aires', 'Racing Club', 'Guillermo Francella'], ['Samsung Galaxy J7 Prime', '4G', 'Uruguay', 'Buenos Aires', 'Teatro Lola Membrives', 'Guillermo Francella'], ['Samsung Galaxy J7 Prime', '4G', 'Uruguay', 'Treinta y Tres Orientales', 'Beccar', 'Guillermo Francella'], ['Samsung Galaxy J7 Prime', '4G', 'Uruguay', 'Estadio Centenario', 'Racing Club', 'Guillermo Francella'], ['Samsung Galaxy J7 Prime', '4G', 'Uruguay', 'TV Ciudad', 'Premios Platino', 'Guillermo Francella'], ['Samsung Galaxy J7 Prime', '4G', 'Uruguay', 'Carlos Gardel', 'Racing Club', 'Guillermo Francella'], ['Samsung Galaxy J7 Prime', '4G', 'Uruguay', 'Rombai', 'Showmatch', 'Guillermo Francella'], ['Samsung Galaxy J7 Prime', '4G', 'Uruguay', 'Daniel Hendler', 'Ana Katz', 'Guillermo Francella'], ['Samsung Galaxy J7 Prime', '4G', 'Uruguay', 'Daniel Hendler', 'Los Marziano', 'Guillermo Francella'], ['Samsung Galaxy J7 Prime', '4G', 'Uruguay', 'Daniel Hendler', 'Natalia Oreiro', 'Guillermo Francella'], ['Samsung Galaxy J7 Prime', '4G', 'Uruguay', 'Daniel Hendler', 'Ariel Winograd', 'Guillermo Francella'], ['Samsung Galaxy J7 Prime', '4G', 'Uruguay', 'Daniel Hendler', 'Julieta Zylberberg', 'Guillermo Francella'], ['Samsung Galaxy J7 Prime', '4G', 'Uruguay', 'Jacobo Langsner', 'Carlos Galettini', 'Guillermo Francella'], ['Samsung Galaxy J7 Prime', '4G', 'Uruguay', 'Portugal', 'Enrique el Navegante', 'Guillermo Francella'], ['Samsung Galaxy J7 Prime', '4G', 'Uruguay', 'Club Nacional de Football', 'Racing Club', 'Guillermo Francella'], ['Samsung Galaxy J7 Prime', '4G', 'Uruguay', 'Copa Intercontinental', 'Racing Club', 'Guillermo Francella'], ['Samsung Galaxy J7 Prime', '4G', 'Punta del Este', 'Buenos Aires', 'Teatro Lola Membrives', 'Guillermo Francella'], ['Samsung Galaxy J7 Prime', '4G', 'Punta del Este', 'Mar del Plata', 'Premios Estrella de Mar', 'Guillermo Francella'], ['Samsung Galaxy J7 Prime', '4G', 'Punta del Este', 'Argentina', 'Silvina Ocampo', 'Guillermo Francella'], ['Samsung Galaxy J7 Prime', '4G', 'Punta del Este', 'Argentina', 'El secreto de sus ojos', 'Guillermo Francella'], ['Samsung Galaxy J7 Prime', '4G', 'Punta del Este', 'Argentina', 'Ariel Winograd', 'Guillermo Francella'], ['Samsung Galaxy J7 Prime', '4G', 'Colombia', 'Argentina', 'Silvina Ocampo', 'Guillermo Francella'], ['Samsung Galaxy J7 Prime', '4G', 'Colombia', 'Argentina', 'El secreto de sus ojos', 'Guillermo Francella'], ['Samsung Galaxy J7 Prime', '4G', 'Colombia', 'Argentina', 'Ariel Winograd', 'Guillermo Francella'], ['Samsung Galaxy J7 Prime', '4G', 'Colombia', 'Boom latinoamericano', 'Silvina Ocampo', 'Guillermo Francella'], ['Samsung Galaxy J7 Prime', '4G', 'Colombia', 'Carlos Vives', 'Claribel Medina', 'Guillermo Francella'], ['Samsung Galaxy J7 Prime', '4G', 'Colombia', 'Rock al Parque', 'Juana Molina', 'Guillermo Francella'], ['Samsung Galaxy J7 Prime', '4G', 'Ciudad de Guatemala', 'Buenos Aires', 'Teatro Lola Membrives', 'Guillermo Francella'], ['Samsung Galaxy J7 Prime', '4G', 'Ciudad de Guatemala', 'Argentina', 'Silvina Ocampo', 'Guillermo Francella'], ['Samsung Galaxy J7 Prime', '4G', 'Ciudad de Guatemala', 'Argentina', 'El secreto de sus ojos', 'Guillermo Francella'], ['Samsung Galaxy J7 Prime', '4G', 'Ciudad de Guatemala', 'Argentina', 'Ariel Winograd', 'Guillermo Francella'], ['Samsung Galaxy J7 Prime', '4G', 'Ciudad de Guatemala', 'Portugal', 'Enrique el Navegante', 'Guillermo Francella'], ['Samsung Galaxy J7 Prime', '4G', 'Claro', 'Buenos Aires', 'Teatro Lola Membrives', 'Guillermo Francella'], ['Samsung Galaxy J7 Prime', '4G', 'Tegucigalpa', 'Buenos Aires', 'Teatro Lola Membrives', 'Guillermo Francella'], ['Samsung Galaxy J7 Prime', '4G', 'Tegucigalpa', 'Boom latinoamericano', 'Silvina Ocampo', 'Guillermo Francella'], ['Samsung Galaxy J7 Prime', '4G', 'Movistar', 'Argentina', 'Silvina Ocampo', 'Guillermo Francella'], ['Samsung Galaxy J7 Prime', '4G', 'Movistar', 'Argentina', 'El secreto de sus ojos', 'Guillermo Francella'], ['Samsung Galaxy J7 Prime', '4G', 'Movistar', 'Argentina', 'Ariel Winograd', 'Guillermo Francella'], ['Samsung Galaxy J7 Prime', '4G', 'Ecuador', 'Argentina', 'Silvina Ocampo', 'Guillermo Francella'], ['Samsung Galaxy J7 Prime', '4G', 'Ecuador', 'Argentina', 'El secreto de sus ojos', 'Guillermo Francella'], ['Samsung Galaxy J7 Prime', '4G', 'Ecuador', 'Argentina', 'Ariel Winograd', 'Guillermo Francella'], ['Samsung Galaxy J7 Prime', '4G', 'Ecuador', 'Recopa Sudamericana', 'Racing Club', 'Guillermo Francella'], ['Samsung Galaxy J7 Prime', '4G', 'Ecuador', 'Copa Sudamericana', 'Racing Club', 'Guillermo Francella'], ['Samsung Galaxy J7 Prime', '4G', 'Ecuador', 'Copa Sudamericana 2019', 'Racing Club', 'Guillermo Francella'], ['Samsung Galaxy J7 Prime', '4G', 'Ecuador', 'Copa Sudamericana 2022', 'Racing Club', 'Guillermo Francella'], ['Samsung Galaxy J7 Prime', '4G', 'Quito', 'Copa Sudamericana', 'Racing Club', 'Guillermo Francella'], ['Samsung Galaxy J7 Prime', '4G', 'Quito', 'Recopa Sudamericana', 'Racing Club', 'Guillermo Francella'], ['Samsung Galaxy J7 Prime', '4G', 'Quito', 'Sociedad Deportivo Quito', 'Racing Club', 'Guillermo Francella'], ['Samsung Galaxy J7 Prime', '4G', 'Quito', 'Argentina', 'Silvina Ocampo', 'Guillermo Francella'], ['Samsung Galaxy J7 Prime', '4G', 'Quito', 'Argentina', 'El secreto de sus ojos', 'Guillermo Francella'], ['Samsung Galaxy J7 Prime', '4G', 'Quito', 'Argentina', 'Ariel Winograd', 'Guillermo Francella'], ['Samsung Galaxy J7 Prime', '4G', 'Quito', 'Buenos Aires', 'Teatro Lola Membrives', 'Guillermo Francella'], ['Samsung Galaxy J7 Prime', '4G', 'Caracas', 'Argentina', 'Silvina Ocampo', 'Guillermo Francella'], ['Samsung Galaxy J7 Prime', '4G', 'Caracas', 'Argentina', 'El secreto de sus ojos', 'Guillermo Francella'], ['Samsung Galaxy J7 Prime', '4G', 'Caracas', 'Argentina', 'Ariel Winograd', 'Guillermo Francella'], ['Samsung Galaxy J7 Prime', '4G', 'Caracas', 'Copa Sudamericana', 'Racing Club', 'Guillermo Francella'], ['Samsung Galaxy J7 Prime', '4G', 'Reino Unido', 'Argentina', 'Silvina Ocampo', 'Guillermo Francella'], ['Samsung Galaxy J7 Prime', '4G', 'Reino Unido', 'Argentina', 'El secreto de sus ojos', 'Guillermo Francella'], ['Samsung Galaxy J7 Prime', '4G', 'Reino Unido', 'Argentina', 'Ariel Winograd', 'Guillermo Francella'], ['Samsung Galaxy J7 Prime', '4G', 'Reino Unido', 'Celtic Football Club', 'Racing Club', 'Guillermo Francella'], ['Samsung Galaxy J7 Prime', 'Samsung Galaxy J7', 'Nueva York', 'Portugal', 'Enrique el Navegante', 'Guillermo Francella'], ['Samsung Galaxy J7 Prime', 'Samsung Galaxy J7', 'Nueva York', 'Martin Scorsese', 'Plano secuencia', 'Guillermo Francella'], ['Samsung Galaxy J7 Prime', 'Samsung Galaxy J7', 'Nueva York', 'Argentina', 'Silvina Ocampo', 'Guillermo Francella'], ['Samsung Galaxy J7 Prime', 'Samsung Galaxy J7', 'Nueva York', 'Argentina', 'El secreto de sus ojos', 'Guillermo Francella'], ['Samsung Galaxy J7 Prime', 'Samsung Galaxy J7', 'Nueva York', 'Argentina', 'Ariel Winograd', 'Guillermo Francella'], ['Samsung Galaxy J7 Prime', 'Samsung Galaxy J7', 'Nueva York', 'Al Pacino', 'Racing Club', 'Guillermo Francella'], ['Samsung Galaxy J7 Prime', 'Wikimedia Commons', 'Estados Unidos', 'Primer contacto', 'Enrique el Navegante', 'Guillermo Francella'], ['Samsung Galaxy J7 Prime', 'Wikimedia Commons', 'Estados Unidos', 'Orson Welles', 'Plano secuencia', 'Guillermo Francella'], ['Samsung Galaxy J7 Prime', 'Wikimedia Commons', 'Estados Unidos', 'Francis Ford Coppola', 'Norma Pons', 'Guillermo Francella'], ['Samsung Galaxy J7 Prime', 'Wikimedia Commons', 'Estados Unidos', 'Emily Dickinson', 'Silvina Ocampo', 'Guillermo Francella'], ['Samsung Galaxy J7 Prime', 'Wikimedia Commons', 'Creative Commons', 'Argentina', 'Silvina Ocampo', 'Guillermo Francella'], ['Samsung Galaxy J7 Prime', 'Wikimedia Commons', 'Creative Commons', 'Argentina', 'El secreto de sus ojos', 'Guillermo Francella'], ['Samsung Galaxy J7 Prime', 'Wikimedia Commons', 'Creative Commons', 'Argentina', 'Ariel Winograd', 'Guillermo Francella'], ['Samsung Galaxy J7 Prime', 'Wikimedia Commons', 'Internet Movie Database', 'Francis Ford Coppola', 'Norma Pons', 'Guillermo Francella'], ['Samsung Galaxy J7 Prime', 'Wikimedia Commons', 'Internet Movie Database', 'Al Pacino', 'Racing Club', 'Guillermo Francella'], ['Samsung Galaxy J7 Prime', 'Wikimedia Commons', 'Internet Movie Database', 'Martin Scorsese', 'Plano secuencia', 'Guillermo Francella']]\n"
     ]
    }
   ],
   "source": [
    "def buscar_todos_posibles(start, end):\n",
    "    if not graph.vertex_exists(start) or not graph.vertex_exists(end):\n",
    "        raise ValueError(\"Los nodos de inicio o final no son validos.\")\n",
    "    queue = deque([[start]])\n",
    "    camino_minimo = []\n",
    "    visited_at_level = {start: 0}\n",
    "    while queue:\n",
    "        path = queue.popleft()\n",
    "        current_node = path[-1]\n",
    "        if current_node != end:\n",
    "            for vecino in graph.get_neighbors(current_node):\n",
    "                if vecino not in visited_at_level or visited_at_level[vecino] == len(path):\n",
    "                    if vecino not in visited_at_level:\n",
    "                        visited_at_level[vecino] = len(path)\n",
    "                    queue.append(path + [vecino])\n",
    "        else:      \n",
    "            camino_minimo.append(path)\n",
    "            continue\n",
    "    return camino_minimo\n",
    "\n",
    "posibles_caminos = buscar_todos_posibles('Samsung Galaxy J7 Prime', 'Guillermo Francella')\n",
    "print(f\"CAMINOS: cantidad {len(posibles_caminos)}, caminos: {posibles_caminos}\")"
   ]
  },
  {
   "cell_type": "markdown",
   "id": "0a2ffa16",
   "metadata": {},
   "source": [
    "Encuentro el minimo y máximo"
   ]
  },
  {
   "cell_type": "code",
   "execution_count": 19,
   "id": "913f373f",
   "metadata": {},
   "outputs": [],
   "source": [
    "def find_minmax_weights(paths):\n",
    "    min_peso_promedio = float('inf')\n",
    "    camino_min = []\n",
    "    max_peso_promedio = float('-inf')\n",
    "    camino_max = []\n",
    "    for camino in paths:\n",
    "        peso_total = 0\n",
    "        for i in range(len(camino) - 1):\n",
    "            peso_total += graph.get_edge_data(camino[i], camino[i + 1])\n",
    "        peso_promedio = peso_total / (len(camino) - 1)\n",
    "        if peso_promedio < min_peso_promedio:\n",
    "            min_peso_promedio = peso_promedio\n",
    "            camino_min = camino\n",
    "        if peso_promedio > max_peso_promedio:\n",
    "            max_peso_promedio = peso_promedio\n",
    "            camino_max = camino\n",
    "    return ((camino_min, min_peso_promedio), (camino_max, max_peso_promedio))"
   ]
  },
  {
   "cell_type": "code",
   "execution_count": 20,
   "id": "36b11e2c",
   "metadata": {},
   "outputs": [
    {
     "name": "stdout",
     "output_type": "stream",
     "text": [
      "Camino más original: ['Samsung Galaxy J7 Prime', 'Android', 'GNU General Public License', '25 de febrero', '14 de febrero', 'Guillermo Francella'] con peso promedio 1.0\n",
      "Camino menos original: ['Samsung Galaxy J7 Prime', '4G', 'Uruguay', 'Argentina', 'El secreto de sus ojos', 'Guillermo Francella'] con peso promedio 6.4\n"
     ]
    }
   ],
   "source": [
    "minmax_paths = find_minmax_weights(posibles_caminos)\n",
    "\n",
    "print(f\"Camino más original: {minmax_paths[0][0]} con peso promedio {minmax_paths[0][1]}\")\n",
    "print(f\"Camino menos original: {minmax_paths[1][0]} con peso promedio {minmax_paths[1][1]}\")"
   ]
  },
  {
   "cell_type": "markdown",
   "id": "851cb5ab",
   "metadata": {},
   "source": [
    "# 4) \n",
    "¿Cuál es el camino mínimo más largo de todo el grafo (sin tener ciclos en cuenta)? Muestre todos los vértices por los que pasa. En caso de no poder calcularlo de forma exacta haga un algoritmo que pueda encontrar el más largo posible."
   ]
  },
  {
   "cell_type": "markdown",
   "id": "7d78eb66",
   "metadata": {},
   "source": [
    "NO CORRE EL EXACTO, entonces trabajamos con una APROXIMACIÓN (estimación)."
   ]
  },
  {
   "cell_type": "markdown",
   "id": "b3c7c75a",
   "metadata": {},
   "source": [
    "Se estima el diámetro mediante varios intentos (bfs modificado) devolviendo el camino más largo obtenido."
   ]
  },
  {
   "cell_type": "code",
   "execution_count": 11,
   "id": "b28f6792",
   "metadata": {},
   "outputs": [],
   "source": [
    "import random\n",
    "import random\n",
    "\n",
    "def bfs_longest_path(graph: Graph, start: str):\n",
    "    queue = deque([(start, [start])])\n",
    "    visited = set([start])\n",
    "    longest_path = []\n",
    "\n",
    "    while queue:\n",
    "        current_vertex, path = queue.popleft()\n",
    "        if len(path) > len(longest_path):\n",
    "            longest_path = path\n",
    "\n",
    "        for neighbor in graph.get_neighbors(current_vertex):\n",
    "            if neighbor not in visited:\n",
    "                visited.add(neighbor)\n",
    "                queue.append((neighbor, path + [neighbor]))\n",
    "\n",
    "    return longest_path\n",
    "\n",
    "\n",
    "def estimar_diametro(grafo, intentos):\n",
    "    max = []\n",
    "    for i in range(intentos):    \n",
    "        nodos = list(grafo._graph.keys())\n",
    "        nodo_inicial = random.choice(nodos)\n",
    "        while (len(grafo.get_neighbors(nodo_inicial)) < 100):\n",
    "            nodo_inicial = random.choice(nodos)\n",
    "\n",
    "        current = bfs_longest_path(graph, nodo_inicial)\n",
    "        if len(current) > len(max):\n",
    "            max = current\n",
    "    \n",
    "    return max"
   ]
  },
  {
   "cell_type": "markdown",
   "id": "a7752f99",
   "metadata": {},
   "source": [
    "###### 30s:"
   ]
  },
  {
   "cell_type": "code",
   "execution_count": 16,
   "id": "3e3c8e3f",
   "metadata": {},
   "outputs": [
    {
     "name": "stdout",
     "output_type": "stream",
     "text": [
      "Longitud del camino más largo encontrado: 37\n",
      "Camino completo\n",
      "Idiomas aislados -> Francia -> Suiza -> Roger Federer -> Francisco Clavet -> Masters de Cincinnati 2000 -> Masters de Cincinnati 1999 -> Masters de Cincinnati 1998 -> Masters de Cincinnati 1997 -> Masters de Cincinnati 1996 -> Masters de Cincinnati 1995 -> Masters de Cincinnati 1994 -> Masters de Cincinnati 1993 -> Masters de Cincinnati 1992 -> Masters de Cincinnati 1991 -> Masters de Cincinnati 1990 -> Masters de Cincinnati 1989 -> Masters de Cincinnati 1988 -> Masters de Cincinnati 1987 -> Masters de Cincinnati 1986 -> Masters de Cincinnati 1985 -> Masters de Cincinnati 1984 -> Masters de Cincinnati 1983 -> Masters de Cincinnati 1982 -> Masters de Cincinnati 1981 -> Masters de Cincinnati 1980 -> Masters de Cincinnati 1979 -> Masters de Cincinnati 1978 -> Masters de Cincinnati 1977 -> Masters de Cincinnati 1976 -> Masters de Cincinnati 1975 -> Masters de Cincinnati 1974 -> Masters de Cincinnati 1973 -> Masters de Cincinnati 1972 -> Masters de Cincinnati 1971 -> Masters de Cincinnati 1970 -> Masters de Cincinnati 1969\n",
      "\n",
      "Primeros 5 nodos del camino:\n",
      "Idiomas aislados -> Francia -> Suiza -> Roger Federer -> Francisco Clavet\n",
      "\n",
      "Últimos 5 nodos del camino:\n",
      "Masters de Cincinnati 1973 -> Masters de Cincinnati 1972 -> Masters de Cincinnati 1971 -> Masters de Cincinnati 1970 -> Masters de Cincinnati 1969\n"
     ]
    }
   ],
   "source": [
    "camino = estimar_diametro(graph, 10)\n",
    "\n",
    "print(f\"Longitud del camino más largo encontrado: {len(camino)}\")\n",
    "\n",
    "if camino:\n",
    "    print(\"Camino completo\")\n",
    "    print(\" -> \".join(camino))\n",
    "    print(\"\\nPrimeros 5 nodos del camino:\")\n",
    "    print(\" -> \".join(camino[:5]))\n",
    "    \n",
    "    print(\"\\nÚltimos 5 nodos del camino:\")\n",
    "    print(\" -> \".join(camino[-5:]))\n",
    "else:\n",
    "    print(\"No se encontró un camino.\")\n",
    "    \n"
   ]
  },
  {
   "cell_type": "markdown",
   "id": "d4b27bbe",
   "metadata": {},
   "source": [
    "# 5) \n",
    "¿Cuántos artículos hay para los cuales no se llegue desde ningún otro artículo? ¿Cuántos artículos que no lleven a ningún otro hay? Muestre 5 de cada uno.\n",
    "\n",
    "Se buscan los nodos con entradas y salidas, y los que no tienen entrada o no tienen salida son los que no están ahí."
   ]
  },
  {
   "cell_type": "code",
   "execution_count": 13,
   "id": "04528bb5",
   "metadata": {},
   "outputs": [
    {
     "name": "stdout",
     "output_type": "stream",
     "text": [
      "Cantidad de artículos sin enlaces entrantes: 2958256\n",
      "Primeros 5 artículos sin enlaces entrantes:\n",
      "- Cereus poselgerianus\n",
      "- Escudo de armas de Túnez\n",
      "- Rab (empresa)\n",
      "- Ermita de Nuestra Señora de Mismanos (Tudela)\n",
      "- Macrófitas\n",
      "\n",
      "Cantidad de artículos sin enlaces salientes: 32793\n",
      "Primeros 5 artículos sin enlaces salientes:\n",
      "- Alberto Lara\n",
      "- Taishō\n",
      "- Orland\n",
      "- Mendez\n",
      "- Chapeau (desambiguación)\n"
     ]
    }
   ],
   "source": [
    "def encontrar_articulos_sin_conexiones(grafo):\n",
    "    nodos_con_entrada = set()\n",
    "    nodos_con_salida = set()\n",
    "    \n",
    "    for nodo in grafo._graph:\n",
    "        vecinos = grafo.get_neighbors(nodo)\n",
    "        if vecinos:\n",
    "            nodos_con_salida.add(nodo)\n",
    "            for vecino in vecinos:\n",
    "                nodos_con_entrada.add(vecino)\n",
    "    \n",
    "    todos_nodos = set(grafo._graph.keys())\n",
    "    sin_entrada = todos_nodos - nodos_con_entrada\n",
    "    sin_salida = todos_nodos - nodos_con_salida\n",
    "    \n",
    "    return list(sin_entrada), list(sin_salida)\n",
    "\n",
    "sin_entrada, sin_salida = encontrar_articulos_sin_conexiones(graph)\n",
    "\n",
    "print(f\"Cantidad de artículos sin enlaces entrantes: {len(sin_entrada)}\")\n",
    "print(f\"Primeros 5 artículos sin enlaces entrantes:\")\n",
    "for articulo in sin_entrada[:5]:\n",
    "    print(f\"- {articulo}\")\n",
    "print(f\"\\nCantidad de artículos sin enlaces salientes: {len(sin_salida)}\")\n",
    "print(f\"Primeros 5 artículos sin enlaces salientes:\")\n",
    "for articulo in sin_salida[:5]:\n",
    "    print(f\"- {articulo}\")"
   ]
  },
  {
   "cell_type": "markdown",
   "id": "a4192dc2",
   "metadata": {},
   "source": [
    "# 6) \n",
    "¿Cuántos artículos con links correspondidos hay (un link de A a B y de B a A)? Muestra 5 pares.\n",
    "\n",
    "Se buscan directamente.\n",
    "\n",
    "###### 1m"
   ]
  },
  {
   "cell_type": "code",
   "execution_count": 14,
   "id": "c7e172cc",
   "metadata": {},
   "outputs": [
    {
     "name": "stderr",
     "output_type": "stream",
     "text": [
      "Explorando pares correspondidos...: 100%|██████████| 3958452/3958452 [00:54<00:00, 72067.78it/s]"
     ]
    },
    {
     "name": "stdout",
     "output_type": "stream",
     "text": [
      "Cantidad de artículos con links correspondidos: 728779\n",
      "Primeros 5 pares de artículos con links correspondidos:\n",
      "- Pictilabrus viridis <-> Pictilabrus\n",
      "- Stenoma cremastis <-> Stenoma\n",
      "- Excoecaria <-> Hippomaneae\n",
      "- Excoecaria <-> Hippomaninae\n",
      "- Melissa De Sousa <-> 30 Years to Life\n"
     ]
    },
    {
     "name": "stderr",
     "output_type": "stream",
     "text": [
      "\n"
     ]
    }
   ],
   "source": [
    "def encontrar_links_correspondidos(grafo):\n",
    "    pares_correspondidos = []\n",
    "    nodos_visitados = set()\n",
    "    \n",
    "    for nodo in tqdm(grafo._graph, desc=\"Explorando pares correspondidos...\"):\n",
    "        if nodo in nodos_visitados:\n",
    "            continue\n",
    "\n",
    "        for vecino in grafo.get_neighbors(nodo):\n",
    "            if grafo.edge_exists(vecino, nodo):\n",
    "                pares_correspondidos.append((nodo, vecino))\n",
    "                nodos_visitados.add(nodo)\n",
    "                nodos_visitados.add(vecino)\n",
    "\n",
    "    return nodos_visitados, pares_correspondidos\n",
    "\n",
    "\n",
    "nodos_visitados, pares_correspondidos = encontrar_links_correspondidos(graph)\n",
    "print(f\"Cantidad de artículos con links correspondidos: {len(nodos_visitados)}\")\n",
    "print(f\"Primeros 5 pares de artículos con links correspondidos:\")\n",
    "for nodo1, nodo2 in pares_correspondidos[:5]:\n",
    "    print(f\"- {nodo1} <-> {nodo2}\")"
   ]
  }
 ],
 "metadata": {
  "kernelspec": {
   "display_name": "Python 3",
   "language": "python",
   "name": "python3"
  },
  "language_info": {
   "codemirror_mode": {
    "name": "ipython",
    "version": 3
   },
   "file_extension": ".py",
   "mimetype": "text/x-python",
   "name": "python",
   "nbconvert_exporter": "python",
   "pygments_lexer": "ipython3",
   "version": "3.12.2"
  }
 },
 "nbformat": 4,
 "nbformat_minor": 5
}
